{
  "nbformat": 4,
  "nbformat_minor": 0,
  "metadata": {
    "colab": {
      "provenance": [],
      "collapsed_sections": [],
      "authorship_tag": "ABX9TyOuZOt27AdAbycis5BosyMb",
      "include_colab_link": true
    },
    "kernelspec": {
      "name": "python3",
      "display_name": "Python 3"
    },
    "language_info": {
      "name": "python"
    }
  },
  "cells": [
    {
      "cell_type": "markdown",
      "metadata": {
        "id": "view-in-github",
        "colab_type": "text"
      },
      "source": [
        "<a href=\"https://colab.research.google.com/github/dilliraj1987/Ex5_MNIST/blob/main/MNIST.ipynb\" target=\"_parent\"><img src=\"https://colab.research.google.com/assets/colab-badge.svg\" alt=\"Open In Colab\"/></a>"
      ]
    },
    {
      "cell_type": "markdown",
      "source": [
        "## **Importing Required Libraries**"
      ],
      "metadata": {
        "id": "5rMkWp6upPiJ"
      }
    },
    {
      "cell_type": "code",
      "execution_count": null,
      "metadata": {
        "id": "ocQ4IIWGGw8s"
      },
      "outputs": [],
      "source": [
        "import numpy as np # Importing Numpy\n",
        "import pandas as pd # Importing Pandas\n",
        "import matplotlib.pyplot as plt # Import Matlab library for plotting\n",
        "%matplotlib inline\n",
        "from keras.datasets import mnist # Importing Sample dataset MNIST from keras.datasets\n",
        "from keras.models import Sequential # Improting Sequential function from keras.models\n",
        "from keras.layers import Dense, Dropout, Activation # Importing Dense, Dropout, Activation functions from keras,layers\n",
        "from keras.utils import np_utils # Importing np_utils from keras.utils\n",
        "\n",
        "np.random.seed(35) # Random seeding of data at every 35 random sequences"
      ]
    },
    {
      "cell_type": "markdown",
      "source": [
        "## **Spliting Train, Test data from MNIST and Display the shape of an image**"
      ],
      "metadata": {
        "id": "0o8JSLCrqw6T"
      }
    },
    {
      "cell_type": "code",
      "source": [
        "(X_train, y_train), (X_test, y_test) = mnist.load_data() # Splitting of MNIST dataset as Train and Test\n",
        "print(\"X_train original shape\", X_train.shape) # To display total no. of X_train data and its shape\n",
        "print(\"y_train original shape\", y_train.shape) # To display total no. of y_train data and its shape\n",
        "print(\"X_test original shape\", X_test.shape) # To display total no. of X_test data and its shape\n",
        "print(\"y_test original shape\", y_test.shape) # To display total no. of y_test data and its shape"
      ],
      "metadata": {
        "colab": {
          "base_uri": "https://localhost:8080/"
        },
        "id": "U9OT32C_HLXa",
        "outputId": "2b842da5-ae63-477e-b25d-a41390976389"
      },
      "execution_count": null,
      "outputs": [
        {
          "output_type": "stream",
          "name": "stdout",
          "text": [
            "Downloading data from https://storage.googleapis.com/tensorflow/tf-keras-datasets/mnist.npz\n",
            "11493376/11490434 [==============================] - 0s 0us/step\n",
            "11501568/11490434 [==============================] - 0s 0us/step\n",
            "X_train original shape (60000, 28, 28)\n",
            "y_train original shape (60000,)\n",
            "X_test original shape (10000, 28, 28)\n",
            "y_test original shape (10000,)\n"
          ]
        }
      ]
    },
    {
      "cell_type": "code",
      "source": [
        "plt.imshow(X_train[1000], cmap='gray') # Display X_train's 1000 index array data in grayscale \n",
        "plt.title(y_train[1000]) # Display the title from y_train 1000 index data"
      ],
      "metadata": {
        "colab": {
          "base_uri": "https://localhost:8080/",
          "height": 298
        },
        "id": "YA62sE8OHU_1",
        "outputId": "ed792989-72ed-4a07-b93f-6234563e19f9"
      },
      "execution_count": null,
      "outputs": [
        {
          "output_type": "execute_result",
          "data": {
            "text/plain": [
              "Text(0.5, 1.0, '0')"
            ]
          },
          "metadata": {},
          "execution_count": 3
        },
        {
          "output_type": "display_data",
          "data": {
            "text/plain": [
              "<Figure size 432x288 with 1 Axes>"
            ],
            "image/png": "[encoded data removed]"
          },
          "metadata": {
            "needs_background": "light"
          }
        }
      ]
    },
    {
      "cell_type": "code",
      "source": [
        "plt.imshow(X_train[1001], cmap='gray') # Display X_train's 1001 index array data in grayscale\n",
        "plt.title(y_train[1001]) # Display the title from y_train 1001 index data"
      ],
      "metadata": {
        "colab": {
          "base_uri": "https://localhost:8080/",
          "height": 298
        },
        "id": "hjipJQNQHZK3",
        "outputId": "8b695fae-9fa2-4135-a2ae-c5919136ff9f"
      },
      "execution_count": null,
      "outputs": [
        {
          "output_type": "execute_result",
          "data": {
            "text/plain": [
              "Text(0.5, 1.0, '7')"
            ]
          },
          "metadata": {},
          "execution_count": 4
        },
        {
          "output_type": "display_data",
          "data": {
            "text/plain": [
              "<Figure size 432x288 with 1 Axes>"
            ],
            "image/png": "[encoded data removed]"
          },
          "metadata": {
            "needs_background": "light"
          }
        }
      ]
    },
    {
      "cell_type": "code",
      "source": [
        "plt.imshow(X_train[1002], cmap='gray') # Display X_train's 1002 index array data in grayscale\n",
        "plt.title(y_train[1002]) # Display the title in y_train 1002 index data"
      ],
      "metadata": {
        "colab": {
          "base_uri": "https://localhost:8080/",
          "height": 298
        },
        "id": "a5bh66T_HecA",
        "outputId": "23ab00fe-4f3e-4c07-ee79-97a6b9542040"
      },
      "execution_count": null,
      "outputs": [
        {
          "output_type": "execute_result",
          "data": {
            "text/plain": [
              "Text(0.5, 1.0, '1')"
            ]
          },
          "metadata": {},
          "execution_count": 5
        },
        {
          "output_type": "display_data",
          "data": {
            "text/plain": [
              "<Figure size 432x288 with 1 Axes>"
            ],
            "image/png": "[encoded data removed]"
          },
          "metadata": {
            "needs_background": "light"
          }
        }
      ]
    },
    {
      "cell_type": "code",
      "source": [
        "plt.imshow(X_train[1003], cmap='gray') # Display X_train's 1003 index array data in grayscale\n",
        "plt.title(y_train[1003]) # Display the title in y_train 1003 index data"
      ],
      "metadata": {
        "colab": {
          "base_uri": "https://localhost:8080/",
          "height": 298
        },
        "id": "iLHs5r_PHje0",
        "outputId": "d759635e-8a51-48db-ac19-412199efdfd8"
      },
      "execution_count": null,
      "outputs": [
        {
          "output_type": "execute_result",
          "data": {
            "text/plain": [
              "Text(0.5, 1.0, '1')"
            ]
          },
          "metadata": {},
          "execution_count": 6
        },
        {
          "output_type": "display_data",
          "data": {
            "text/plain": [
              "<Figure size 432x288 with 1 Axes>"
            ],
            "image/png": "[encoded data removed]"
          },
          "metadata": {
            "needs_background": "light"
          }
        }
      ]
    },
    {
      "cell_type": "code",
      "source": [
        "X_train = X_train.reshape(60000,784) # X_train data in single dimension with vector size as 784 for 60000 data points\n",
        "X_test = X_test.reshape(10000,784) # X_test data in single dimension with vector size as 784 for 10000 data points\n",
        "\n",
        "X_train = X_train.astype('float32') # To Represent X_train value in floating point for normalization\n",
        "X_test = X_test.astype('float32') # To Represent X_test value in floating point for normalization\n",
        "\n",
        "X_train/=255 # To normalizing the X_train vector data\n",
        "X_test/=255 # To normalizing the X_test vector data"
      ],
      "metadata": {
        "id": "TUvPUXZDHm_R"
      },
      "execution_count": null,
      "outputs": []
    },
    {
      "cell_type": "markdown",
      "source": [
        "## **Encoding data**"
      ],
      "metadata": {
        "id": "Lu6AhRM0wAmd"
      }
    },
    {
      "cell_type": "code",
      "source": [
        "number_of_classes = 10 # Declaring Output in ten classes\n",
        "\n",
        "Y_train = np_utils.to_categorical(y_train, number_of_classes) # We use to_categorial method of Numpy utilities to perform encoding for y_train\n",
        "Y_test = np_utils.to_categorical(y_test, number_of_classes) # We use to_categorial method of Numpy utilities to perform encoding for y_test\n",
        "\n",
        "y_train[10], Y_train[10] # Result of encoding for 10 classes displayed with this command"
      ],
      "metadata": {
        "colab": {
          "base_uri": "https://localhost:8080/"
        },
        "id": "FgWadMf2HrDa",
        "outputId": "6e737ee3-7060-4a84-b8bb-840eb20098e2"
      },
      "execution_count": null,
      "outputs": [
        {
          "output_type": "execute_result",
          "data": {
            "text/plain": [
              "(3, array([0., 0., 0., 1., 0., 0., 0., 0., 0., 0.], dtype=float32))"
            ]
          },
          "metadata": {},
          "execution_count": 8
        }
      ]
    },
    {
      "cell_type": "markdown",
      "source": [
        "## **Preparation of Model for Prediction**"
      ],
      "metadata": {
        "id": "8K4x5JogxDHc"
      }
    },
    {
      "cell_type": "code",
      "source": [
        "model = Sequential() # Calling sequential function\n",
        "\n",
        "model.add(Dense(512, input_dim=784,activation='relu')) # Dense layer1 with 512 hidden layers as 784 input_dimensions, Activation function = relu for hidden layers\n",
        "# An \"activation\" is just a non-linear function applied to the output\n",
        "# of the layer above. Here, with a \"rectified linear unit\",\n",
        "# we clamp all values below 0 to 0.\n",
        "#model.add(Activation('relu'))\n",
        "# Dropout helps protect the model from memorizing or \"overfitting\" the training data\n",
        "#model.add(Dropout(0.2))\n",
        "\n",
        "model.add(Dense(256,activation='relu')) # Dense layer1 with 256 hidden layers, Activation function = relu for hidden layers\n",
        "#model.add(Activation('relu'))\n",
        "#model.add(Dropout(0.2))\n",
        "\n",
        "model.add(Dense(128,activation='relu')) # Dense layer1 with 128 hidden layers, Activation function = relu for hidden layers\n",
        "#model.add(Activation('relu'))\n",
        "#model.add(Dropout(0.2))\n",
        "\n",
        "model.add(Dense(10,activation='softmax')) # 10 Output Dense layer with Activation function of softmax for multiclass classification\n",
        "# This special \"softmax\" activation among other things,\n",
        "# ensures the output is a valid probaility distribution, that is\n",
        "# that its values are all non-negative and sum to 1.\n",
        "#model.add(Activation('softmax'))"
      ],
      "metadata": {
        "id": "sJqZunl1Ht6T"
      },
      "execution_count": null,
      "outputs": []
    },
    {
      "cell_type": "code",
      "source": [
        "model.compile(loss='categorical_crossentropy', optimizer='adam', metrics=['accuracy']) # Compiling done with the 'adam'(Adaptable Optimizer); Loss = categorical_crossentropy; metric evaluation = accuracy"
      ],
      "metadata": {
        "id": "qs5AYJkmH2Cw"
      },
      "execution_count": null,
      "outputs": []
    },
    {
      "cell_type": "code",
      "source": [
        "model.summary() # Display Summary of sequential model"
      ],
      "metadata": {
        "colab": {
          "base_uri": "https://localhost:8080/"
        },
        "id": "RDFYXHqbH9-N",
        "outputId": "34338945-0ea7-4547-fa03-453f3877781e"
      },
      "execution_count": null,
      "outputs": [
        {
          "output_type": "stream",
          "name": "stdout",
          "text": [
            "Model: \"sequential\"\n",
            "_________________________________________________________________\n",
            " Layer (type)                Output Shape              Param #   \n",
            "=================================================================\n",
            " dense (Dense)               (None, 512)               401920    \n",
            "                                                                 \n",
            " dense_1 (Dense)             (None, 256)               131328    \n",
            "                                                                 \n",
            " dense_2 (Dense)             (None, 128)               32896     \n",
            "                                                                 \n",
            " dense_3 (Dense)             (None, 10)                1290      \n",
            "                                                                 \n",
            "=================================================================\n",
            "Total params: 567,434\n",
            "Trainable params: 567,434\n",
            "Non-trainable params: 0\n",
            "_________________________________________________________________\n"
          ]
        }
      ]
    },
    {
      "cell_type": "markdown",
      "source": [
        "## **Parameter Calculation**\n",
        "Parameters expression = No. of inputs * No. of hidden layers + No. of outputs\n",
        "Dense = 784*512+512 = 401920\n",
        "Dense_1 = 512*256+256 = 131328\n",
        "Dense_2 = 256*128+128 = 32896\n",
        "Dense_3 = 128*10+10 = 129\n",
        "\n",
        "Total Trainable Parameters = 567434\n"
      ],
      "metadata": {
        "id": "rQc98lsVyqkX"
      }
    },
    {
      "cell_type": "code",
      "source": [
        "size = int(len(X_train) * 0.8) # Defining the size of the X_train data as 80%\n",
        "\n",
        "train_x, val_x = X_train[:size], X_train[size:] # train_x - 80% and validation_x - 80% \n",
        "train_y, val_y = Y_train[:size], Y_train[size:] # train_y - 20% and validation_y - 20%"
      ],
      "metadata": {
        "id": "Y0Th8DxnIBhv"
      },
      "execution_count": null,
      "outputs": []
    },
    {
      "cell_type": "code",
      "source": [
        "hist = model.fit(train_x, train_y, batch_size=128, epochs=20, validation_data=(val_x, val_y)) # Evaluation of Performance Metric accuracy for both train and validation data"
      ],
      "metadata": {
        "colab": {
          "base_uri": "https://localhost:8080/"
        },
        "id": "tO6XaBgiIFeH",
        "outputId": "2f14a0b9-941e-4e7e-ae07-cd489d697ea3"
      },
      "execution_count": null,
      "outputs": [
        {
          "output_type": "stream",
          "name": "stdout",
          "text": [
            "Epoch 1/20\n",
            "375/375 [==============================] - 6s 14ms/step - loss: 0.2603 - accuracy: 0.9238 - val_loss: 0.1237 - val_accuracy: 0.9620\n",
            "Epoch 2/20\n",
            "375/375 [==============================] - 5s 13ms/step - loss: 0.0907 - accuracy: 0.9722 - val_loss: 0.1047 - val_accuracy: 0.9677\n",
            "Epoch 3/20\n",
            "375/375 [==============================] - 5s 13ms/step - loss: 0.0605 - accuracy: 0.9809 - val_loss: 0.0912 - val_accuracy: 0.9725\n",
            "Epoch 4/20\n",
            "375/375 [==============================] - 5s 13ms/step - loss: 0.0412 - accuracy: 0.9867 - val_loss: 0.0911 - val_accuracy: 0.9732\n",
            "Epoch 5/20\n",
            "375/375 [==============================] - 8s 20ms/step - loss: 0.0301 - accuracy: 0.9904 - val_loss: 0.0954 - val_accuracy: 0.9741\n",
            "Epoch 6/20\n",
            "375/375 [==============================] - 10s 26ms/step - loss: 0.0269 - accuracy: 0.9915 - val_loss: 0.0946 - val_accuracy: 0.9745\n",
            "Epoch 7/20\n",
            "375/375 [==============================] - 5s 14ms/step - loss: 0.0232 - accuracy: 0.9925 - val_loss: 0.0909 - val_accuracy: 0.9767\n",
            "Epoch 8/20\n",
            "375/375 [==============================] - 5s 13ms/step - loss: 0.0185 - accuracy: 0.9943 - val_loss: 0.0924 - val_accuracy: 0.9772\n",
            "Epoch 9/20\n",
            "375/375 [==============================] - 5s 13ms/step - loss: 0.0159 - accuracy: 0.9942 - val_loss: 0.1148 - val_accuracy: 0.9725\n",
            "Epoch 10/20\n",
            "375/375 [==============================] - 5s 13ms/step - loss: 0.0178 - accuracy: 0.9942 - val_loss: 0.1063 - val_accuracy: 0.9758\n",
            "Epoch 11/20\n",
            "375/375 [==============================] - 5s 14ms/step - loss: 0.0152 - accuracy: 0.9956 - val_loss: 0.1139 - val_accuracy: 0.9762\n",
            "Epoch 12/20\n",
            "375/375 [==============================] - 5s 13ms/step - loss: 0.0110 - accuracy: 0.9964 - val_loss: 0.1064 - val_accuracy: 0.9772\n",
            "Epoch 13/20\n",
            "375/375 [==============================] - 5s 13ms/step - loss: 0.0133 - accuracy: 0.9954 - val_loss: 0.1149 - val_accuracy: 0.9765\n",
            "Epoch 14/20\n",
            "375/375 [==============================] - 5s 13ms/step - loss: 0.0120 - accuracy: 0.9959 - val_loss: 0.1079 - val_accuracy: 0.9762\n",
            "Epoch 15/20\n",
            "375/375 [==============================] - 5s 13ms/step - loss: 0.0115 - accuracy: 0.9967 - val_loss: 0.1066 - val_accuracy: 0.9773\n",
            "Epoch 16/20\n",
            "375/375 [==============================] - 5s 13ms/step - loss: 0.0069 - accuracy: 0.9976 - val_loss: 0.1575 - val_accuracy: 0.9694\n",
            "Epoch 17/20\n",
            "375/375 [==============================] - 5s 13ms/step - loss: 0.0134 - accuracy: 0.9957 - val_loss: 0.1061 - val_accuracy: 0.9778\n",
            "Epoch 18/20\n",
            "375/375 [==============================] - 5s 13ms/step - loss: 0.0115 - accuracy: 0.9967 - val_loss: 0.1147 - val_accuracy: 0.9766\n",
            "Epoch 19/20\n",
            "375/375 [==============================] - 6s 15ms/step - loss: 0.0073 - accuracy: 0.9977 - val_loss: 0.1177 - val_accuracy: 0.9778\n",
            "Epoch 20/20\n",
            "375/375 [==============================] - 6s 17ms/step - loss: 0.0081 - accuracy: 0.9975 - val_loss: 0.1192 - val_accuracy: 0.9774\n"
          ]
        }
      ]
    },
    {
      "cell_type": "markdown",
      "source": [
        "## **Evaluation of Performance Metrics**"
      ],
      "metadata": {
        "id": "sSp_pQRs1gY1"
      }
    },
    {
      "cell_type": "code",
      "source": [
        "score = model.evaluate(X_test, Y_test) # Evaluation of Testing accuracy\n",
        "print()\n",
        "print('Test accuracy: ', score[1]) # Display Test accuracy result"
      ],
      "metadata": {
        "colab": {
          "base_uri": "https://localhost:8080/"
        },
        "id": "-UhKRxKEII6y",
        "outputId": "0f10410e-95d6-45fc-ca72-7ce906d450ca"
      },
      "execution_count": null,
      "outputs": [
        {
          "output_type": "stream",
          "name": "stdout",
          "text": [
            "313/313 [==============================] - 1s 4ms/step - loss: 0.0974 - accuracy: 0.9801\n",
            "\n",
            "Test accuracy:  0.9800999760627747\n"
          ]
        }
      ]
    },
    {
      "cell_type": "code",
      "source": [
        "import numpy as np\n",
        "from keras.preprocessing import image\n",
        "#test_image = image.load_img('X_test[1000]')\n",
        "#test_image = image.img_to_array(test_image)\n",
        "#test_image = np.expand_dims(test_image, axis = 0)\n",
        "result = model.predict(X_train)\n",
        "#predictions = lm.predict(X_test)"
      ],
      "metadata": {
        "id": "dqeBj2aEIvD7"
      },
      "execution_count": null,
      "outputs": []
    },
    {
      "cell_type": "code",
      "source": [
        "result[1000] # Result output of 1000 indexed data"
      ],
      "metadata": {
        "colab": {
          "base_uri": "https://localhost:8080/"
        },
        "id": "ZzXqEAuwI3lX",
        "outputId": "a2b53e62-7a4e-47f8-c47b-f2d2927ecdd9"
      },
      "execution_count": null,
      "outputs": [
        {
          "output_type": "execute_result",
          "data": {
            "text/plain": [
              "array([1.00000000e+00, 3.74477713e-15, 1.06235587e-09, 6.87882402e-15,\n",
              "       2.22088430e-14, 1.00036536e-13, 2.62460098e-09, 4.99481316e-12,\n",
              "       3.74257239e-14, 4.94229588e-11], dtype=float32)"
            ]
          },
          "metadata": {},
          "execution_count": 16
        }
      ]
    },
    {
      "cell_type": "code",
      "source": [
        "result[1001] # Result output of 1001 indexed data"
      ],
      "metadata": {
        "colab": {
          "base_uri": "https://localhost:8080/"
        },
        "id": "vzPHlLASJFZs",
        "outputId": "85682a99-a428-42a8-90ac-1d0c31b128ab"
      },
      "execution_count": null,
      "outputs": [
        {
          "output_type": "execute_result",
          "data": {
            "text/plain": [
              "array([1.1029267e-11, 5.1104809e-09, 6.8345498e-09, 5.8191651e-10,\n",
              "       1.4470749e-09, 1.1536252e-09, 1.7107326e-09, 1.0000000e+00,\n",
              "       1.4478023e-11, 5.6514725e-08], dtype=float32)"
            ]
          },
          "metadata": {},
          "execution_count": 17
        }
      ]
    },
    {
      "cell_type": "code",
      "source": [],
      "metadata": {
        "id": "PaW04ubfJ73I"
      },
      "execution_count": null,
      "outputs": []
    }
  ]
}